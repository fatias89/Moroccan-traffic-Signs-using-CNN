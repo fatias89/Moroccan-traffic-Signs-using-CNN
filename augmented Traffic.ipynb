{
 "cells": [
  {
   "cell_type": "code",
   "execution_count": null,
   "id": "4dafd9d5",
   "metadata": {},
   "outputs": [],
   "source": []
  },
  {
   "cell_type": "code",
   "execution_count": 1,
   "id": "f9b7aaf9",
   "metadata": {},
   "outputs": [
    {
     "name": "stdout",
     "output_type": "stream",
     "text": [
      "Data augmentation complete!\n"
     ]
    }
   ],
   "source": [
    "import os\n",
    "import cv2\n",
    "import imgaug.augmenters as iaa\n",
    "\n",
    "# Directory containing your traffic sign images divided into 35 classes\n",
    "input_dir = \"C:/Users/dell/Pictures/Moroccan Traffic signs\"\n",
    "output_dir = \"path_to_output_directory_for_augmented_images\"\n",
    "\n",
    "# Create output directory if it doesn't exist\n",
    "if not os.path.exists(output_dir):\n",
    "    os.makedirs(output_dir)\n",
    "\n",
    "# Function to perform augmentation on images of a specific class\n",
    "def augment_images_in_class(class_dir, output_path, augment_factor=5):\n",
    "    # Create output directory for the current class\n",
    "    class_output_path = os.path.join(output_path, os.path.basename(class_dir))\n",
    "    if not os.path.exists(class_output_path):\n",
    "        os.makedirs(class_output_path)\n",
    "\n",
    "    # Iterate through the images in the class directory and augment them\n",
    "    for filename in os.listdir(class_dir):\n",
    "        if filename.endswith(\".jpg\") or filename.endswith(\".png\"):  # Change file extensions accordingly\n",
    "            image_path = os.path.join(class_dir, filename)\n",
    "            # Read the image\n",
    "            image = cv2.imread(image_path)\n",
    "            # Convert the image to RGB (imgaug requires RGB images)\n",
    "            image = cv2.cvtColor(image, cv2.COLOR_BGR2RGB)\n",
    "\n",
    "            # Define augmentation sequence\n",
    "            seq = iaa.Sequential([\n",
    "                iaa.Affine(rotate=(-30, 30)),  # Rotate images\n",
    "                iaa.GaussianBlur(sigma=(0.0, 1.0)),  # Apply Gaussian blur\n",
    "                iaa.AdditiveGaussianNoise(scale=(0, 0.1 * 255)),  # Add Gaussian noise\n",
    "                iaa.Affine(scale={\"x\": (0.8, 1.2), \"y\": (0.8, 1.2)}),  # Scale images\n",
    "                iaa.Fliplr(0.5),  # Flip horizontally\n",
    "                iaa.Crop(percent=(0, 0.1))  # Crop images\n",
    "            ])\n",
    "\n",
    "            # Augment and save images\n",
    "            for i in range(augment_factor):\n",
    "                augmented_image = seq(image=image)\n",
    "                # Convert back to BGR format for OpenCV and save\n",
    "                augmented_image_bgr = cv2.cvtColor(augmented_image, cv2.COLOR_RGB2BGR)\n",
    "                cv2.imwrite(os.path.join(class_output_path, f\"augmented_{i}_{filename}\"), augmented_image_bgr)\n",
    "\n",
    "# Iterate through the directories of each class and augment images within each class\n",
    "for class_name in os.listdir(input_dir):\n",
    "    class_dir = os.path.join(input_dir, class_name)\n",
    "    if os.path.isdir(class_dir):\n",
    "        augment_images_in_class(class_dir, output_dir)\n",
    "\n",
    "print(\"Data augmentation complete!\")\n"
   ]
  },
  {
   "cell_type": "code",
   "execution_count": 2,
   "id": "4806ea82",
   "metadata": {},
   "outputs": [],
   "source": [
    "DATADIR='path_to_output_directory_for_augmented_images'\n",
    "\n",
    "CATEGORIES=['0','1','2','3','4','5','6','7','8','9','10','11','12','13','14','15','16','17','18','19','20','21','22','23','24','25','26','27','28','29','30','31','32','33','34']"
   ]
  },
  {
   "cell_type": "code",
   "execution_count": 3,
   "id": "55f91bcd",
   "metadata": {},
   "outputs": [],
   "source": [
    "IMG_SIZE=34\n",
    "    \n",
    "data=[]\n",
    "for category in CATEGORIES :\n",
    " path=os.path.join(DATADIR,category)\n",
    " label=CATEGORIES .index(category)\n",
    " for img in os.listdir(path):\n",
    "        img_path=os.path.join( path,img)\n",
    "        img_ar=cv2.imread(img_path)\n",
    "        img_ar=cv2.resize(img_ar,(IMG_SIZE,IMG_SIZE))  \n",
    "        data.append([ img_ar,label]) "
   ]
  },
  {
   "cell_type": "code",
   "execution_count": 4,
   "id": "94da5394",
   "metadata": {},
   "outputs": [
    {
     "data": {
      "text/plain": [
       "29860"
      ]
     },
     "execution_count": 4,
     "metadata": {},
     "output_type": "execute_result"
    }
   ],
   "source": [
    "len (data)"
   ]
  },
  {
   "cell_type": "code",
   "execution_count": 5,
   "id": "fffb2030",
   "metadata": {},
   "outputs": [],
   "source": [
    "import random\n",
    "import pickle\n",
    "import numpy as np"
   ]
  },
  {
   "cell_type": "code",
   "execution_count": 6,
   "id": "a46a3890",
   "metadata": {},
   "outputs": [],
   "source": [
    "random.shuffle(data)"
   ]
  },
  {
   "cell_type": "code",
   "execution_count": 7,
   "id": "2dc01d0f",
   "metadata": {},
   "outputs": [],
   "source": [
    "X=[]\n",
    "y=[]\n",
    "\n",
    "for features,labels in data:\n",
    "    X.append(features)\n",
    "    y.append(labels)\n",
    "    \n",
    "X=np.array(X)\n",
    "y=np.array(y)"
   ]
  },
  {
   "cell_type": "code",
   "execution_count": 8,
   "id": "ebe98934",
   "metadata": {},
   "outputs": [],
   "source": [
    "pickle.dump(X,open('X.pkl','wb'))\n",
    "pickle.dump(y,open('y.pkl','wb'))"
   ]
  },
  {
   "cell_type": "code",
   "execution_count": null,
   "id": "7c66c84c",
   "metadata": {},
   "outputs": [],
   "source": []
  }
 ],
 "metadata": {
  "kernelspec": {
   "display_name": "Python 3 (ipykernel)",
   "language": "python",
   "name": "python3"
  },
  "language_info": {
   "codemirror_mode": {
    "name": "ipython",
    "version": 3
   },
   "file_extension": ".py",
   "mimetype": "text/x-python",
   "name": "python",
   "nbconvert_exporter": "python",
   "pygments_lexer": "ipython3",
   "version": "3.9.16"
  }
 },
 "nbformat": 4,
 "nbformat_minor": 5
}
