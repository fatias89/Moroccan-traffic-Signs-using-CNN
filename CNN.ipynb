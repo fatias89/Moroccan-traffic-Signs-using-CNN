{
 "cells": [
  {
   "cell_type": "code",
   "execution_count": 1,
   "id": "08e4beaa",
   "metadata": {},
   "outputs": [
    {
     "name": "stdout",
     "output_type": "stream",
     "text": [
      "Requirement already satisfied: scikit-learn in c:\\users\\dell\\.conda\\envs\\jupyter\\lib\\site-packages (1.3.2)\n",
      "Requirement already satisfied: joblib>=1.1.1 in c:\\users\\dell\\.conda\\envs\\jupyter\\lib\\site-packages (from scikit-learn) (1.3.2)\n",
      "Requirement already satisfied: threadpoolctl>=2.0.0 in c:\\users\\dell\\.conda\\envs\\jupyter\\lib\\site-packages (from scikit-learn) (3.2.0)\n",
      "Requirement already satisfied: scipy>=1.5.0 in c:\\users\\dell\\appdata\\roaming\\python\\python39\\site-packages (from scikit-learn) (1.11.4)\n",
      "Requirement already satisfied: numpy<2.0,>=1.17.3 in c:\\users\\dell\\.conda\\envs\\jupyter\\lib\\site-packages (from scikit-learn) (1.24.2)\n"
     ]
    }
   ],
   "source": []
  },
  {
   "cell_type": "code",
   "execution_count": 2,
   "id": "c7b4a41e",
   "metadata": {},
   "outputs": [],
   "source": [
    "import pickle\n",
    "import tensorflow as tf\n",
    "from tensorflow.keras.models import Sequential\n",
    "from tensorflow.keras.layers import Conv2D, MaxPooling2D, Flatten, Dense,Dropout\n",
    "from tensorflow.keras.regularizers import l2\n",
    "from tensorflow.keras.optimizers import Adam\n",
    "from sklearn.model_selection import train_test_split\n",
    "import numpy as np"
   ]
  },
  {
   "cell_type": "code",
   "execution_count": 3,
   "id": "668da1f1",
   "metadata": {},
   "outputs": [],
   "source": [
    "X=pickle.load(open('X.pkl','rb'))\n",
    "y=pickle.load(open('y.pkl','rb'))"
   ]
  },
  {
   "cell_type": "code",
   "execution_count": 4,
   "id": "addf2f56",
   "metadata": {},
   "outputs": [],
   "source": [
    "from keras.utils import to_categorical\n",
    "\n",
    "y = to_categorical(y, 35)"
   ]
  },
  {
   "cell_type": "code",
   "execution_count": 5,
   "id": "c4b42081",
   "metadata": {},
   "outputs": [],
   "source": [
    "model = Sequential([\n",
    "   # Conv2D(32, (3, 3), activation='relu', input_shape=X.shape[1:], kernel_regularizer=l2(0.001)),\n",
    "    Conv2D(24, (5, 5),strides=(1, 1), activation='relu', input_shape=X.shape[1:]),\n",
    "    Conv2D(30, (5, 5), strides=(1, 1),activation='relu'),\n",
    "     Conv2D(48, (5, 5), strides=(1, 1),activation='relu'),\n",
    "     Conv2D(64, (5, 5), strides=(1, 1),activation='relu'),\n",
    "    Conv2D(64, (5, 5), strides=(1, 1),activation='relu'),\n",
    "     #Conv2D(32, (3, 3), activation='relu'),\n",
    "    MaxPooling2D((2, 2)),\n",
    "    #Conv2D(64, (3, 3), activation='relu', kernel_regularizer=l2(0.001)),\n",
    "    Conv2D(64, (5, 5),strides=(1, 1), activation='relu'),\n",
    "    # Conv2D(64, (3, 3),strides=(1, 1), activation='relu'),\n",
    "   # Conv2D(64, (3, 3),strides=(2, 2), activation='relu'),\n",
    "    # Conv2D(64, (3, 3), activation='relu'),\n",
    "  #  MaxPooling2D((2, 2)),\n",
    "    #Conv2D(64, (3, 3), activation='relu', kernel_regularizer=l2(0.001)),\n",
    "   # Conv2D(64, (3, 3), activation='relu'),\n",
    "    #Conv2D(64, (3, 3), activation='relu'),\n",
    "    #MaxPooling2D((2, 2)),\n",
    "    #Conv2D(128, (3, 3), activation='relu', kernel_regularizer=l2(0.001)),\n",
    "    #Conv2D(128, (3, 3), strides=(1, 1),activation='relu'),\n",
    "     #Conv2D(128, (3, 3), activation='relu'),\n",
    "  #  MaxPooling2D((2, 2)),\n",
    "    Flatten(),\n",
    "  #  Dense(128, activation='relu', kernel_regularizer=l2(0.001)),\n",
    "    Dense(250, activation='relu'),\n",
    "    Dense(125, activation='relu'),\n",
    "     Dense(75, activation='relu'),\n",
    "    Dense(35, activation='softmax')  # Assuming 43 classes for traffic signs\n",
    "])"
   ]
  },
  {
   "cell_type": "code",
   "execution_count": 6,
   "id": "464c8fd1",
   "metadata": {},
   "outputs": [],
   "source": [
    "model.compile(optimizer=Adam(learning_rate=0.001), loss='categorical_crossentropy', metrics=['accuracy'])\n",
    "#model.compile(optimizer=Adam(learning_rate=0.001), loss='categorical_crossentropy', metrics=['accuracy'])"
   ]
  },
  {
   "cell_type": "code",
   "execution_count": 7,
   "id": "23ad5957",
   "metadata": {},
   "outputs": [],
   "source": [
    "#X,y  = train_test_split(X_train, y_train, test_size=0.2, random_state=42)"
   ]
  },
  {
   "cell_type": "code",
   "execution_count": 8,
   "id": "2e3039f9",
   "metadata": {},
   "outputs": [
    {
     "name": "stdout",
     "output_type": "stream",
     "text": [
      "Epoch 1/20\n",
      "934/934 [==============================] - 345s 367ms/step - loss: 1.7218 - accuracy: 0.5056\n",
      "Epoch 2/20\n",
      "934/934 [==============================] - 329s 352ms/step - loss: 0.7147 - accuracy: 0.7709\n",
      "Epoch 3/20\n",
      "934/934 [==============================] - 326s 349ms/step - loss: 0.5371 - accuracy: 0.8235\n",
      "Epoch 4/20\n",
      "934/934 [==============================] - 307s 329ms/step - loss: 0.4637 - accuracy: 0.8474\n",
      "Epoch 5/20\n",
      "934/934 [==============================] - 305s 326ms/step - loss: 0.4047 - accuracy: 0.8657\n",
      "Epoch 6/20\n",
      "934/934 [==============================] - 310s 332ms/step - loss: 0.3533 - accuracy: 0.8800\n",
      "Epoch 7/20\n",
      "934/934 [==============================] - 330s 353ms/step - loss: 0.3302 - accuracy: 0.8900\n",
      "Epoch 8/20\n",
      "934/934 [==============================] - 337s 361ms/step - loss: 0.2819 - accuracy: 0.9038\n",
      "Epoch 9/20\n",
      "934/934 [==============================] - 331s 355ms/step - loss: 0.2735 - accuracy: 0.9123\n",
      "Epoch 10/20\n",
      "934/934 [==============================] - 361s 387ms/step - loss: 0.2351 - accuracy: 0.9210\n",
      "Epoch 11/20\n",
      "934/934 [==============================] - 388s 415ms/step - loss: 0.2509 - accuracy: 0.9181\n",
      "Epoch 12/20\n",
      "934/934 [==============================] - 384s 411ms/step - loss: 0.2082 - accuracy: 0.9309\n",
      "Epoch 13/20\n",
      "934/934 [==============================] - 390s 417ms/step - loss: 0.2041 - accuracy: 0.9323\n",
      "Epoch 14/20\n",
      "934/934 [==============================] - 407s 436ms/step - loss: 0.2363 - accuracy: 0.9281\n",
      "Epoch 15/20\n",
      "934/934 [==============================] - 418s 448ms/step - loss: 0.1830 - accuracy: 0.9397\n",
      "Epoch 16/20\n",
      "934/934 [==============================] - 371s 397ms/step - loss: 0.1872 - accuracy: 0.9395\n",
      "Epoch 17/20\n",
      "934/934 [==============================] - 370s 396ms/step - loss: 0.1726 - accuracy: 0.9444\n",
      "Epoch 18/20\n",
      "934/934 [==============================] - 379s 406ms/step - loss: 0.1992 - accuracy: 0.9390\n",
      "Epoch 19/20\n",
      "934/934 [==============================] - 375s 402ms/step - loss: 0.2112 - accuracy: 0.9340\n",
      "Epoch 20/20\n",
      "934/934 [==============================] - 372s 398ms/step - loss: 0.1685 - accuracy: 0.9455\n"
     ]
    }
   ],
   "source": [
    "#history = model.fit(X_train, y_train, epochs=10, batch_size=32, validation_data=(X_val, y_val))\n",
    "history = model.fit(X, y, epochs=20, batch_size=32)"
   ]
  },
  {
   "cell_type": "code",
   "execution_count": 9,
   "id": "59f5deaf",
   "metadata": {},
   "outputs": [
    {
     "ename": "NameError",
     "evalue": "name 'X_test' is not defined",
     "output_type": "error",
     "traceback": [
      "\u001b[1;31m---------------------------------------------------------------------------\u001b[0m",
      "\u001b[1;31mNameError\u001b[0m                                 Traceback (most recent call last)",
      "Cell \u001b[1;32mIn[9], line 1\u001b[0m\n\u001b[1;32m----> 1\u001b[0m test_loss, test_acc \u001b[38;5;241m=\u001b[39m model\u001b[38;5;241m.\u001b[39mevaluate(\u001b[43mX_test\u001b[49m, y_test)\n\u001b[0;32m      2\u001b[0m \u001b[38;5;28mprint\u001b[39m(\u001b[38;5;124mf\u001b[39m\u001b[38;5;124m\"\u001b[39m\u001b[38;5;124mTest accuracy: \u001b[39m\u001b[38;5;132;01m{\u001b[39;00mtest_acc\u001b[38;5;132;01m}\u001b[39;00m\u001b[38;5;124m\"\u001b[39m)\n",
      "\u001b[1;31mNameError\u001b[0m: name 'X_test' is not defined"
     ]
    }
   ],
   "source": [
    "test_loss, test_acc = model.evaluate(X_test, y_test)\n",
    "print(f\"Test accuracy: {test_acc}\")"
   ]
  }
 ],
 "metadata": {
  "kernelspec": {
   "display_name": "Python 3 (ipykernel)",
   "language": "python",
   "name": "python3"
  },
  "language_info": {
   "codemirror_mode": {
    "name": "ipython",
    "version": 3
   },
   "file_extension": ".py",
   "mimetype": "text/x-python",
   "name": "python",
   "nbconvert_exporter": "python",
   "pygments_lexer": "ipython3",
   "version": "3.9.16"
  }
 },
 "nbformat": 4,
 "nbformat_minor": 5
}
